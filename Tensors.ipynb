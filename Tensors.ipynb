{
 "cells": [
  {
   "cell_type": "code",
   "execution_count": 1,
   "id": "9309ff43-b768-4123-8caf-2a853945f4dc",
   "metadata": {},
   "outputs": [
    {
     "name": "stdout",
     "output_type": "stream",
     "text": [
      "set up successfully!\n"
     ]
    }
   ],
   "source": [
    "import torch\n",
    "import numpy as np\n",
    "print(\"set up successfully!\")"
   ]
  },
  {
   "cell_type": "markdown",
   "id": "32560ef9-eaa3-4a04-baec-5ff8b5f64c7e",
   "metadata": {},
   "source": [
    "### What is a tensor?\n",
    "Tensor is a type of data structure. We use tensors to encode inputs and outputs of a model, and its parameters."
   ]
  },
  {
   "cell_type": "markdown",
   "id": "e20850fe-7a28-4649-896b-98b9e07bdb00",
   "metadata": {},
   "source": [
    "### How to initialize a tensor?\n",
    "- from data structure in python\n",
    "- from numpy array\n",
    "- from existed tensor (inherit datatype, shape and device)\n",
    "- from a given shape, datatype, device and form of values"
   ]
  },
  {
   "cell_type": "code",
   "execution_count": 28,
   "id": "e7b8af00-14bf-43e3-aadd-58ae3ede6865",
   "metadata": {},
   "outputs": [
    {
     "name": "stdout",
     "output_type": "stream",
     "text": [
      "tensor([[[1, 2],\n",
      "         [3, 4]],\n",
      "\n",
      "        [[5, 6],\n",
      "         [7, 8]]])\n",
      "tensor([[[1, 2],\n",
      "         [3, 4]],\n",
      "\n",
      "        [[5, 6],\n",
      "         [7, 8]]])\n"
     ]
    }
   ],
   "source": [
    "# 1. created directly from data \n",
    "# like tuple, list, numpy or the mixture, cannot be dictionary\n",
    "data = [([1,2],(3,4)),[[5,6],(7,8)]]\n",
    "x_data = torch.tensor(data) # a copy from list\n",
    "print(x_data)\n",
    "\n",
    "# they are independent\n",
    "data[1][0][1] = 114514\n",
    "print(x_data)"
   ]
  },
  {
   "cell_type": "code",
   "execution_count": 26,
   "id": "caef869e-4202-4637-964a-9503588d5450",
   "metadata": {},
   "outputs": [
    {
     "name": "stdout",
     "output_type": "stream",
     "text": [
      "tensor([[1, 2],\n",
      "        [3, 4]])\n"
     ]
    }
   ],
   "source": [
    "# 2. created from numpy\n",
    "np_array = np.array([[1,2],[3,4]])\n",
    "x_np = torch.from_numpy(np_array) # sharing data between numpy and tensor\n",
    "# x_np = torch.tensor(np_array) copy data from numpy to tensor\n",
    "print(x_np)"
   ]
  },
  {
   "cell_type": "code",
   "execution_count": 27,
   "id": "97be9219-fadb-467a-92e3-83b4f2a80525",
   "metadata": {},
   "outputs": [
    {
     "name": "stdout",
     "output_type": "stream",
     "text": [
      "原始 NumPy 数组:\n",
      "[[1 2]\n",
      " [3 4]]\n",
      "\n",
      "用 from_numpy() 创建的 Tensor:\n",
      "tensor([[1, 2],\n",
      "        [3, 4]])\n",
      "\n",
      "用 tensor() 创建的 Tensor:\n",
      "tensor([[1, 2],\n",
      "        [3, 4]])\n",
      "\n",
      "==============================\n",
      "修改 NumPy 数组的第一个元素为 99\n",
      "==============================\n",
      "修改后，原始 NumPy 数组:\n",
      "[[99  2]\n",
      " [ 3  4]]\n",
      "\n",
      "修改后，from_numpy() 创建的 Tensor (它也变了！):\n",
      "tensor([[99,  2],\n",
      "        [ 3,  4]])\n",
      "\n",
      "修改后，tensor() 创建的 Tensor (它没变):\n",
      "tensor([[1, 2],\n",
      "        [3, 4]])\n",
      "\n"
     ]
    }
   ],
   "source": [
    "# 1. 创建一个 NumPy 数组\n",
    "np_array = np.array([[1, 2], [3, 4]])\n",
    "print(f\"原始 NumPy 数组:\\n{np_array}\\n\")\n",
    "\n",
    "# 2. 使用 from_numpy() 创建 Tensor\n",
    "tensor_from_numpy = torch.from_numpy(np_array)\n",
    "print(f\"用 from_numpy() 创建的 Tensor:\\n{tensor_from_numpy}\\n\")\n",
    "\n",
    "# 3. 使用 tensor() 创建 Tensor\n",
    "tensor_copied = torch.tensor(np_array)\n",
    "print(f\"用 tensor() 创建的 Tensor:\\n{tensor_copied}\\n\")\n",
    "\n",
    "# --- 修改原始的 NumPy 数组 ---\n",
    "print(\"=\"*30)\n",
    "print(\"修改 NumPy 数组的第一个元素为 99\")\n",
    "np_array[0, 0] = 99\n",
    "print(\"=\"*30)\n",
    "\n",
    "\n",
    "# 4. 再次查看两个 Tensor 的值\n",
    "print(f\"修改后，原始 NumPy 数组:\\n{np_array}\\n\")\n",
    "print(f\"修改后，from_numpy() 创建的 Tensor (它也变了！):\\n{tensor_from_numpy}\\n\")\n",
    "print(f\"修改后，tensor() 创建的 Tensor (它没变):\\n{tensor_copied}\\n\")"
   ]
  },
  {
   "cell_type": "code",
   "execution_count": 36,
   "id": "fa0480c5-bd3c-4c4b-93ae-94de6661c32a",
   "metadata": {},
   "outputs": [
    {
     "name": "stdout",
     "output_type": "stream",
     "text": [
      "Ones Tensor: \n",
      " tensor([[[1, 1],\n",
      "         [1, 1]],\n",
      "\n",
      "        [[1, 1],\n",
      "         [1, 1]]]) \n",
      "\n",
      "datatype of x_data: torch.int64\n",
      "Random Tensor: \n",
      " tensor([[[0.3476, 0.4863],\n",
      "         [0.2638, 0.3968]],\n",
      "\n",
      "        [[0.3107, 0.0655],\n",
      "         [0.1200, 0.3821]]]) \n",
      "\n"
     ]
    }
   ],
   "source": [
    "# 3. created from another tensor\n",
    "x_ones = torch.ones_like(x_data) # retain or inherit properties from x_data (shape, datatype)\n",
    "print(f\"Ones Tensor: \\n {x_ones} \\n\")\n",
    "print(f\"datatype of x_data: {x_data.dtype}\")\n",
    "\n",
    "x_rand = torch.rand_like(x_data, dtype=torch.float) # override the datatype of x_data\n",
    "print(f\"Random Tensor: \\n {x_rand} \\n\")"
   ]
  },
  {
   "cell_type": "code",
   "execution_count": 25,
   "id": "678d9eac-420b-4817-9f79-67bf3ed95ee3",
   "metadata": {},
   "outputs": [
    {
     "name": "stdout",
     "output_type": "stream",
     "text": [
      "random tensor: \n",
      " tensor([[0.5354, 0.4020, 0.4009],\n",
      "        [0.6146, 0.9815, 0.3671]]) \n",
      "\n",
      "zeros tensor: \n",
      " tensor([[[[0., 0., 0.],\n",
      "          [0., 0., 0.],\n",
      "          [0., 0., 0.],\n",
      "          [0., 0., 0.]],\n",
      "\n",
      "         [[0., 0., 0.],\n",
      "          [0., 0., 0.],\n",
      "          [0., 0., 0.],\n",
      "          [0., 0., 0.]]]]) \n",
      "\n",
      "ones tensor: \n",
      " tensor([[[1., 1., 1., 1., 1., 1.],\n",
      "         [1., 1., 1., 1., 1., 1.],\n",
      "         [1., 1., 1., 1., 1., 1.],\n",
      "         [1., 1., 1., 1., 1., 1.],\n",
      "         [1., 1., 1., 1., 1., 1.]],\n",
      "\n",
      "        [[1., 1., 1., 1., 1., 1.],\n",
      "         [1., 1., 1., 1., 1., 1.],\n",
      "         [1., 1., 1., 1., 1., 1.],\n",
      "         [1., 1., 1., 1., 1., 1.],\n",
      "         [1., 1., 1., 1., 1., 1.]],\n",
      "\n",
      "        [[1., 1., 1., 1., 1., 1.],\n",
      "         [1., 1., 1., 1., 1., 1.],\n",
      "         [1., 1., 1., 1., 1., 1.],\n",
      "         [1., 1., 1., 1., 1., 1.],\n",
      "         [1., 1., 1., 1., 1., 1.]],\n",
      "\n",
      "        [[1., 1., 1., 1., 1., 1.],\n",
      "         [1., 1., 1., 1., 1., 1.],\n",
      "         [1., 1., 1., 1., 1., 1.],\n",
      "         [1., 1., 1., 1., 1., 1.],\n",
      "         [1., 1., 1., 1., 1., 1.]]]) \n",
      "\n"
     ]
    }
   ],
   "source": [
    "# 4. created with random value, 0s or 1s\n",
    "shape = (2,3,)\n",
    "rand_tensor = torch.rand(shape)\n",
    "zeros_tensor = torch.zeros((1,2,4,3)) # defalute dtype: float32\n",
    "ones_tensor = torch.ones(4,5,6) # dtype: float32\n",
    "\n",
    "print(f\"random tensor: \\n {rand_tensor} \\n\")\n",
    "print(f\"zeros tensor: \\n {zeros_tensor} \\n\")\n",
    "print(f\"ones tensor: \\n {ones_tensor} \\n\")"
   ]
  },
  {
   "cell_type": "markdown",
   "id": "1497bb11-9dba-43af-a2bc-5c8e011694c3",
   "metadata": {},
   "source": [
    "### Attributes of a tensor\n",
    "- shape \n",
    "- data type\n",
    "- device"
   ]
  },
  {
   "cell_type": "code",
   "execution_count": 37,
   "id": "c3f2c539-44ff-4d9f-85fd-fabc42b697a9",
   "metadata": {},
   "outputs": [
    {
     "name": "stdout",
     "output_type": "stream",
     "text": [
      "tensor: tensor([[[1, 1, 1, 1],\n",
      "         [1, 1, 1, 1],\n",
      "         [1, 1, 1, 1]],\n",
      "\n",
      "        [[1, 1, 1, 1],\n",
      "         [1, 1, 1, 1],\n",
      "         [1, 1, 1, 1]]])\n",
      "shape of tensor is: torch.Size([2, 3, 4])\n",
      "datatype of tensor is: torch.int64\n",
      "device tensor is stored on: cpu\n"
     ]
    }
   ],
   "source": [
    "tensor = torch.ones((2,3,4),dtype=torch.int64)\n",
    "\n",
    "print(f\"tensor: {tensor}\")\n",
    "print(f\"shape of tensor is: {tensor.shape}\")\n",
    "print(f\"datatype of tensor is: {tensor.dtype}\")\n",
    "print(f\"device tensor is stored on: {tensor.device}\")"
   ]
  },
  {
   "cell_type": "markdown",
   "id": "8f45fb1c-6884-4067-8e3f-e7c7a8ee0313",
   "metadata": {},
   "source": [
    "### Operations on Tensors"
   ]
  },
  {
   "cell_type": "code",
   "execution_count": 42,
   "id": "cafb8231-a4f3-4462-bced-7fcb4383a752",
   "metadata": {},
   "outputs": [
    {
     "name": "stdout",
     "output_type": "stream",
     "text": [
      "Currently cpu_tensor is stored on: cpu\n",
      "Current accelerator is: cuda\n",
      "We copy this tensor from cpu to cuda\n",
      "Now the copy of tensor: \n",
      "tensor([[[0.1927, 0.3063, 0.9787, 0.3018],\n",
      "         [0.9392, 0.1988, 0.9323, 0.9364]],\n",
      "\n",
      "        [[0.4156, 0.4402, 0.8556, 0.5049],\n",
      "         [0.8025, 0.3786, 0.3374, 0.0859]],\n",
      "\n",
      "        [[0.1037, 0.7717, 0.8710, 0.2377],\n",
      "         [0.3070, 0.6049, 0.1190, 0.8856]]], device='cuda:0')\n",
      " is stored on cuda\n"
     ]
    }
   ],
   "source": [
    "# 1. move tensor to current accelerator if available\n",
    "cpu_tensor = torch.rand((3,2,4))\n",
    "print(f\"Currently cpu_tensor is stored on: {cpu_tensor.device}\")\n",
    "\n",
    "if torch.accelerator.is_available():\n",
    "    current_accelerator = torch.accelerator.current_accelerator()\n",
    "    print(f\"Current accelerator is: {current_accelerator}\")\n",
    "    print(f\"We copy this tensor from cpu to {current_accelerator}\")\n",
    "    acc_tensor = cpu_tensor.to(torch.accelerator.current_accelerator())\n",
    "    print(f\"Now the copy of tensor: \\n{acc_tensor}\\n is stored on {current_accelerator}\")"
   ]
  },
  {
   "cell_type": "code",
   "execution_count": 50,
   "id": "e9eeffef-f707-4517-b075-4a6170acd793",
   "metadata": {},
   "outputs": [
    {
     "name": "stdout",
     "output_type": "stream",
     "text": [
      "whole tensor: \n",
      " tensor([[0.3399, 0.1456, 0.1010, 0.0518],\n",
      "        [0.9929, 0.1190, 0.4411, 0.8385],\n",
      "        [0.6301, 0.3336, 0.7226, 0.5065]]) \n",
      "\n",
      "second row: tensor([0.9929, 0.1190, 0.4411, 0.8385])\n",
      "third column: tensor([0.1010, 0.4411, 0.7226])\n",
      "first row fourth column: 0.05182623863220215\n",
      "1st, 2nd row 1st column: tensor([0.3399, 0.9929])\n",
      "(1,2) and (2,3): tensor([0.1456, 0.4411])\n"
     ]
    }
   ],
   "source": [
    "# 2. index & slice of tensor\n",
    "tensor = torch.rand((3,4))\n",
    "\n",
    "print(f\"whole tensor: \\n {tensor} \\n\")\n",
    "print(f\"second row: {tensor[1]}\")\n",
    "print(f\"third column: {tensor[:,2]}\")\n",
    "print(f\"first row fourth column: {tensor[0,3]}\")\n",
    "print(f\"1st, 2nd row 1st column: {tensor[0:2,0]}\")\n",
    "print(f\"(1,2) and (2,3): {tensor[[0,1],[1,2]]}\")"
   ]
  },
  {
   "cell_type": "code",
   "execution_count": 65,
   "id": "788a99b0-2b85-474a-8e21-07e13d6e75b8",
   "metadata": {},
   "outputs": [
    {
     "name": "stdout",
     "output_type": "stream",
     "text": [
      "original tensor: \n",
      " tensor([[[0.5160, 0.9583, 0.4444],\n",
      "         [0.8749, 0.9285, 0.9861]],\n",
      "\n",
      "        [[0.7099, 0.5229, 0.0729],\n",
      "         [0.0023, 0.2074, 0.3989]]]) \n",
      "\n",
      "1st modified tensor: \n",
      " tensor([[[5.1597e-01, 9.5831e-01, 4.4440e-01],\n",
      "         [8.7488e-01, 9.2846e-01, 3.0000e+00]],\n",
      "\n",
      "        [[7.0990e-01, 5.2286e-01, 7.2904e-02],\n",
      "         [2.3420e-03, 2.0745e-01, 3.9895e-01]]]) \n",
      "\n",
      "2nd modified tensor: \n",
      " tensor([[[ 5.1597e-01,  9.5831e-01,  4.4440e-01],\n",
      "         [-1.1400e+02, -5.1400e+02,  1.9198e+00]],\n",
      "\n",
      "        [[ 7.0990e-01,  5.2286e-01,  7.2904e-02],\n",
      "         [-1.1400e+02, -5.1400e+02,  1.9198e+00]]]) \n",
      "\n",
      "3rd modified tensor: \n",
      " tensor([[[ 5.1597e-01,  9.5831e-01,  4.4440e-01],\n",
      "         [-1.1400e+02,  9.9900e+02,  1.9198e+00]],\n",
      "\n",
      "        [[ 7.0990e-01,  5.2286e-01,  7.2904e-02],\n",
      "         [-1.1400e+02,  9.9900e+02,  1.9198e+00]]]) \n",
      "\n"
     ]
    }
   ],
   "source": [
    "# 3. modify values in tensor\n",
    "tensor = torch.rand((2,2,3))\n",
    "\n",
    "print(f\"original tensor: \\n {tensor} \\n\")\n",
    "tensor[0,1,2] = 3\n",
    "print(f\"1st modified tensor: \\n {tensor} \\n\")\n",
    "tensor[:,1,:] = torch.tensor([-114,-514,1.919810])\n",
    "print(f\"2nd modified tensor: \\n {tensor} \\n\")\n",
    "tensor[:,1,1] = 999\n",
    "print(f\"3rd modified tensor: \\n {tensor} \\n\")"
   ]
  },
  {
   "cell_type": "code",
   "execution_count": 79,
   "id": "10f326e1-a5bf-4099-9e6c-2d242a680d75",
   "metadata": {},
   "outputs": [
    {
     "name": "stdout",
     "output_type": "stream",
     "text": [
      "Original tensor: \n",
      " tensor([[0, 1, 2],\n",
      "        [0, 1, 2]]) \n",
      "\n",
      "Combined by torch.cat(): \n",
      " tensor([[0, 1, 2],\n",
      "        [0, 1, 2],\n",
      "        [0, 1, 2],\n",
      "        [0, 1, 2],\n",
      "        [0, 1, 2],\n",
      "        [0, 1, 2]]) \n",
      " shape: torch.Size([6, 3])\n",
      "Combined by torch.stack() \n",
      " tensor([[[0, 1, 2],\n",
      "         [0, 1, 2]],\n",
      "\n",
      "        [[0, 1, 2],\n",
      "         [0, 1, 2]],\n",
      "\n",
      "        [[0, 1, 2],\n",
      "         [0, 1, 2]]]) \n",
      " shape: torch.Size([3, 2, 3])\n"
     ]
    }
   ],
   "source": [
    "# 4. join tensors together\n",
    "tensor = torch.ones((2,3),dtype=torch.int64)\n",
    "tensor[:,0] = 0\n",
    "tensor[:,2] = 2\n",
    "print(f\"Original tensor: \\n {tensor} \\n\")\n",
    "\n",
    "t1 = torch.cat((tensor,tensor,tensor),dim=0)\n",
    "print(f\"Combined by torch.cat(): \\n {t1} \\n shape: {t1.shape}\") # just combining\n",
    "t2 = torch.stack((tensor,tensor,tensor),dim=0) # dim等于几，就在哪个维度上复制这个维度的tensor三次\n",
    "print(f\"Combined by torch.stack() \\n {t2} \\n shape: {t2.shape}\") # create a new dimension"
   ]
  },
  {
   "cell_type": "code",
   "execution_count": 15,
   "id": "5451f627-5a63-46ea-9a35-f7f8b9fb19d9",
   "metadata": {},
   "outputs": [
    {
     "name": "stdout",
     "output_type": "stream",
     "text": [
      "torch.Size([3]) @ torch.Size([3]): torch.Size([])\n",
      "torch.Size([3]) @ torch.Size([3, 2]): torch.Size([2])\n",
      "torch.Size([1, 3]) @ torch.Size([3, 2]): torch.Size([1, 2])\n",
      "torch.Size([2, 1, 3, 4]) @ torch.Size([3, 4, 3]): torch.Size([2, 3, 3, 3])\n"
     ]
    }
   ],
   "source": [
    "# 5. arithmetic operations\n",
    "\n",
    "t1 = torch.rand((3,))\n",
    "t2 = torch.rand((3,2))\n",
    "print(f\"{t1.shape} @ {t1.shape}: {(t1 @ t1).shape}\")\n",
    "print(f\"{t1.shape} @ {t2.shape}: {(t1 @ t2).shape}\") # automatically add a dimention, then removed after calculation\n",
    "print(f\"{t1[None,:].shape} @ {t2.shape}: {(t1.reshape((1,-1)) @ t2).shape}\")\n",
    "\n",
    "# treat last 2 dimensions as matrix, other dimentions apply broadcast(equal shape or one dimention is 1 or one dimension doesn't exist)\n",
    "t3 = torch.rand((2,1,3,4))\n",
    "t4 = torch.rand((3,4,3))\n",
    "print(f\"{t3.shape} @ {t4.shape}: {(t3 @ t4).shape}\")"
   ]
  },
  {
   "cell_type": "code",
   "execution_count": 17,
   "id": "7eeace87-7fe3-44e1-bbe2-32af76822de8",
   "metadata": {},
   "outputs": [
    {
     "name": "stdout",
     "output_type": "stream",
     "text": [
      "tensor([[[0., 0., 0.],\n",
      "         [0., 0., 0.]]])\n"
     ]
    }
   ],
   "source": [
    "## 快速回收空间建立张量，数值取决于内存里剩下什么\n",
    "print(torch.empty((1,2,3)))"
   ]
  },
  {
   "cell_type": "code",
   "execution_count": 18,
   "id": "ec34f1cf-41f0-4b0e-9d42-c6bb03903fec",
   "metadata": {},
   "outputs": [
    {
     "name": "stdout",
     "output_type": "stream",
     "text": [
      "element wise product: \n",
      "tensor([[0.3620, 0.5090, 1.3216],\n",
      "        [0.6434, 1.2682, 3.8848]])\n",
      "\n"
     ]
    }
   ],
   "source": [
    "# element-wise prodect\n",
    "t1 = torch.tensor([[1,2,3],[4,5,6]])\n",
    "t2 = torch.rand((2,3))\n",
    "print(f\"element wise product: \\n{t1 * t2}\\n\")"
   ]
  },
  {
   "cell_type": "code",
   "execution_count": 35,
   "id": "781e3c44-989c-439c-93ca-bb5abe1d9a42",
   "metadata": {},
   "outputs": [
    {
     "name": "stdout",
     "output_type": "stream",
     "text": [
      "tensor([[ 1,  2,  6],\n",
      "        [ 2, 16,  6],\n",
      "        [ 6,  6, 16]]) 2413879950736\n",
      "tensor([[14, 12, 26],\n",
      "        [12, 18, 30],\n",
      "        [26, 30, 56]]) 2413880035120\n",
      "tensor([[ 1,  2,  6],\n",
      "        [ 2, 16,  6],\n",
      "        [ 6,  6, 16]]) 2413879949376\n",
      "tensor([[14, 12, 26],\n",
      "        [12, 18, 30],\n",
      "        [26, 30, 56]]) 2413879949376\n"
     ]
    }
   ],
   "source": [
    "# different address\n",
    "tensor = torch.tensor([[1,2,3],[1,4,1],[2,6,4]])\n",
    "y1 = tensor * tensor.T\n",
    "y2 = tensor @ tensor.T\n",
    "print(y1,id(y1))\n",
    "print(y2,id(y2))\n",
    "\n",
    "# same address\n",
    "res = torch.empty((3,3), dtype=torch.int64)\n",
    "torch.mul(tensor, tensor.T, out=res)\n",
    "print(res,id(res))\n",
    "torch.matmul(tensor, tensor.T, out=res)\n",
    "print(res,id(res))"
   ]
  },
  {
   "cell_type": "code",
   "execution_count": 25,
   "id": "1032d262-c08c-4488-94e3-96e724ef83be",
   "metadata": {},
   "outputs": [
    {
     "name": "stdout",
     "output_type": "stream",
     "text": [
      "tensor(6) <class 'torch.Tensor'>\n",
      "6 <class 'int'>\n"
     ]
    }
   ],
   "source": [
    "# 6. turn single value tensor into python numerical value\n",
    "tensor = torch.ones((2,3),dtype=torch.int64)\n",
    "y1 = tensor.sum()\n",
    "print(y1,type(y1))\n",
    "\n",
    "# use item()\n",
    "y1 = y1.item()\n",
    "print(y1,type(y1))"
   ]
  },
  {
   "cell_type": "code",
   "execution_count": 34,
   "id": "16b715b2-9ed3-4c3c-9bae-a2580c8ee36e",
   "metadata": {},
   "outputs": [
    {
     "name": "stdout",
     "output_type": "stream",
     "text": [
      "original tensor: \n",
      "tensor([3, 4, 5, 6, 7])\n",
      "address: 2413880033600\n",
      " \n",
      "out-of-place operation: \n",
      "tensor([ 8,  9, 10, 11, 12])\n",
      "address: 2413879949376\n",
      " \n",
      "in-place operation: \n",
      "tensor([ 8,  9, 10, 11, 12])\n",
      "address: 2413880033600\n",
      " \n"
     ]
    }
   ],
   "source": [
    "# 7. inplace operation\n",
    "print(f\"original tensor: \\n{tensor}\\naddress: {id(tensor)}\\n \")\n",
    "# out-of_place: open a new address\n",
    "y1 = tensor.add(5)\n",
    "print(f\"out-of-place operation: \\n{y1}\\naddress: {id(y1)}\\n \")\n",
    "# in-place: without chanding address\n",
    "tensor.add_(5)\n",
    "print(f\"in-place operation: \\n{tensor}\\naddress: {id(tensor)}\\n \")"
   ]
  },
  {
   "cell_type": "code",
   "execution_count": 37,
   "id": "8a318029-69a5-41ab-b6d1-c6a8d203ba5d",
   "metadata": {},
   "outputs": [
    {
     "name": "stdout",
     "output_type": "stream",
     "text": [
      "tensor([1, 2, 3, 4, 5]) <class 'torch.Tensor'>\n",
      "[1 2 3 4 5] <class 'numpy.ndarray'>\n",
      "tensor([2, 3, 4, 5, 6])\n",
      "[2 3 4 5 6]\n",
      "tensor([3, 4, 5, 6, 7])\n",
      "[3 4 5 6 7]\n"
     ]
    }
   ],
   "source": [
    "# 8. change to numpy: share same memory\n",
    "tensor = torch.tensor([1,2,3,4,5])\n",
    "print(tensor,type(tensor))\n",
    "n1 = tensor.numpy()\n",
    "print(n1, type(n1))\n",
    "\n",
    "# both will change, no matter change which\n",
    "tensor.add_(1)\n",
    "print(tensor)\n",
    "print(n1)\n",
    "n1 += 1\n",
    "print(tensor)\n",
    "print(n1)\n"
   ]
  },
  {
   "cell_type": "code",
   "execution_count": 33,
   "id": "7328e52e-6a62-433c-83ea-fb56595b7c38",
   "metadata": {},
   "outputs": [
    {
     "name": "stdout",
     "output_type": "stream",
     "text": [
      "cpu\n"
     ]
    }
   ],
   "source": [
    "print(tensor.device)"
   ]
  },
  {
   "cell_type": "code",
   "execution_count": 44,
   "id": "acabb03b-f126-412c-bf15-f64fedd12646",
   "metadata": {},
   "outputs": [
    {
     "name": "stdout",
     "output_type": "stream",
     "text": [
      "3.888888888888889\n"
     ]
    }
   ],
   "source": [
    "tensor = torch.tensor([[1,2,3],[4,-5,6],[7,8,9]])\n",
    "n = tensor.numpy()\n",
    "print(n.mean())"
   ]
  },
  {
   "cell_type": "code",
   "execution_count": null,
   "id": "cdd38c2a-6fcc-4917-8585-5831711f54b1",
   "metadata": {},
   "outputs": [],
   "source": []
  }
 ],
 "metadata": {
  "kernelspec": {
   "display_name": "Python 3 (ipykernel)",
   "language": "python",
   "name": "python3"
  },
  "language_info": {
   "codemirror_mode": {
    "name": "ipython",
    "version": 3
   },
   "file_extension": ".py",
   "mimetype": "text/x-python",
   "name": "python",
   "nbconvert_exporter": "python",
   "pygments_lexer": "ipython3",
   "version": "3.13.9"
  }
 },
 "nbformat": 4,
 "nbformat_minor": 5
}
