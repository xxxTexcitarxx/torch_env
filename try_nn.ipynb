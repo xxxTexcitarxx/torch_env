{
 "cells": [
  {
   "cell_type": "code",
   "execution_count": 8,
   "id": "db5e60e5",
   "metadata": {},
   "outputs": [
    {
     "name": "stdout",
     "output_type": "stream",
     "text": [
      "Initialized successfully\n"
     ]
    }
   ],
   "source": [
    "# initalize \n",
    "import torch\n",
    "import os\n",
    "import torch.nn as nn\n",
    "from torchvision import datasets\n",
    "from torchvision.transforms import ToTensor, Lambda\n",
    "from torch.utils.data import DataLoader\n",
    "print(\"Initialized successfully\") \n"
   ]
  },
  {
   "cell_type": "code",
   "execution_count": 2,
   "id": "daf149b4",
   "metadata": {},
   "outputs": [
    {
     "name": "stdout",
     "output_type": "stream",
     "text": [
      "Using device: cuda\n"
     ]
    }
   ],
   "source": [
    "# get device\n",
    "device = torch.accelerator.current_accelerator().type if torch.accelerator.is_available() else \"cpu\"\n",
    "print(f\"Using device: {device}\")"
   ]
  },
  {
   "cell_type": "code",
   "execution_count": 14,
   "id": "9f2189fe",
   "metadata": {},
   "outputs": [],
   "source": [
    "# Hyperparameters\n",
    "learning_rate = 1e-3\n",
    "batch_size = 64\n",
    "epochs = 5"
   ]
  },
  {
   "cell_type": "code",
   "execution_count": 4,
   "id": "fbb2115d",
   "metadata": {},
   "outputs": [],
   "source": [
    "# design model\n",
    "class NeuralNetwork(nn.Module):\n",
    "    def __init__(self):\n",
    "        super().__init__()\n",
    "        self.flatten = nn.Flatten()\n",
    "        self.linear_relu_stack = nn.Sequential(\n",
    "            nn.Linear(28*28, 512),\n",
    "            nn.ReLU(),\n",
    "            nn.Linear(512, 512),\n",
    "            nn.ReLU(),\n",
    "            nn.Linear(512, 128),\n",
    "            nn.ReLU(),\n",
    "            nn.Linear(128, 10)\n",
    "        )\n",
    "\n",
    "    def forward(self, X):\n",
    "        X = self.flatten(X)\n",
    "        logits = self.linear_relu_stack(X)\n",
    "        return logits\n",
    "        "
   ]
  },
  {
   "cell_type": "code",
   "execution_count": 6,
   "id": "04ca6180",
   "metadata": {},
   "outputs": [
    {
     "name": "stdout",
     "output_type": "stream",
     "text": [
      "NeuralNetwork(\n",
      "  (flatten): Flatten(start_dim=1, end_dim=-1)\n",
      "  (linear_relu_stack): Sequential(\n",
      "    (0): Linear(in_features=784, out_features=512, bias=True)\n",
      "    (1): ReLU()\n",
      "    (2): Linear(in_features=512, out_features=512, bias=True)\n",
      "    (3): ReLU()\n",
      "    (4): Linear(in_features=512, out_features=128, bias=True)\n",
      "    (5): ReLU()\n",
      "    (6): Linear(in_features=128, out_features=10, bias=True)\n",
      "  )\n",
      ")\n",
      "Layer: linear_relu_stack.0.weight | Size: torch.Size([512, 784]) | Values: tensor([[-1.3789e-02,  2.3320e-02, -2.3449e-02,  ...,  2.5281e-02,\n",
      "         -2.6549e-02, -5.1865e-03],\n",
      "        [-1.3348e-05, -2.6808e-02,  3.3510e-02,  ...,  3.3615e-02,\n",
      "         -8.6144e-03,  3.4196e-02]], device='cuda:0', grad_fn=<SliceBackward0>) \n",
      "\n",
      "Layer: linear_relu_stack.0.bias | Size: torch.Size([512]) | Values: tensor([0.0154, 0.0131], device='cuda:0', grad_fn=<SliceBackward0>) \n",
      "\n",
      "Layer: linear_relu_stack.2.weight | Size: torch.Size([512, 512]) | Values: tensor([[ 0.0387,  0.0140, -0.0008,  ..., -0.0371,  0.0265,  0.0331],\n",
      "        [-0.0191,  0.0293,  0.0002,  ...,  0.0050, -0.0219,  0.0275]],\n",
      "       device='cuda:0', grad_fn=<SliceBackward0>) \n",
      "\n",
      "Layer: linear_relu_stack.2.bias | Size: torch.Size([512]) | Values: tensor([0.0128, 0.0276], device='cuda:0', grad_fn=<SliceBackward0>) \n",
      "\n",
      "Layer: linear_relu_stack.4.weight | Size: torch.Size([128, 512]) | Values: tensor([[ 0.0129,  0.0147, -0.0048,  ..., -0.0286, -0.0356, -0.0385],\n",
      "        [-0.0035,  0.0141, -0.0195,  ...,  0.0308,  0.0309, -0.0140]],\n",
      "       device='cuda:0', grad_fn=<SliceBackward0>) \n",
      "\n",
      "Layer: linear_relu_stack.4.bias | Size: torch.Size([128]) | Values: tensor([ 0.0030, -0.0379], device='cuda:0', grad_fn=<SliceBackward0>) \n",
      "\n",
      "Layer: linear_relu_stack.6.weight | Size: torch.Size([10, 128]) | Values: tensor([[-0.0348, -0.0521,  0.0539, -0.0003,  0.0746, -0.0843,  0.0822, -0.0572,\n",
      "         -0.0540, -0.0057, -0.0653, -0.0765,  0.0354, -0.0383,  0.0634, -0.0319,\n",
      "          0.0421, -0.0795, -0.0856, -0.0722,  0.0236, -0.0340,  0.0081,  0.0849,\n",
      "          0.0646, -0.0117, -0.0709, -0.0344, -0.0454, -0.0449, -0.0874,  0.0458,\n",
      "         -0.0658, -0.0622, -0.0082,  0.0414, -0.0591,  0.0155,  0.0637,  0.0562,\n",
      "         -0.0083, -0.0716, -0.0395,  0.0061, -0.0005,  0.0149, -0.0123,  0.0497,\n",
      "          0.0608,  0.0826, -0.0810,  0.0051,  0.0578,  0.0232,  0.0734, -0.0672,\n",
      "         -0.0043, -0.0247, -0.0833, -0.0449, -0.0411, -0.0031, -0.0711,  0.0195,\n",
      "         -0.0390, -0.0507, -0.0347, -0.0561,  0.0469,  0.0196, -0.0553,  0.0317,\n",
      "         -0.0570, -0.0050,  0.0036,  0.0197,  0.0798,  0.0564, -0.0344, -0.0399,\n",
      "          0.0581,  0.0264, -0.0424,  0.0105, -0.0176,  0.0789, -0.0477,  0.0616,\n",
      "         -0.0822,  0.0822, -0.0856,  0.0336, -0.0509,  0.0221, -0.0356, -0.0593,\n",
      "         -0.0483,  0.0410, -0.0594, -0.0066,  0.0151,  0.0047,  0.0238, -0.0723,\n",
      "          0.0127,  0.0837, -0.0003, -0.0776,  0.0579,  0.0869,  0.0648, -0.0305,\n",
      "          0.0577,  0.0162,  0.0154, -0.0067,  0.0661,  0.0326, -0.0287, -0.0029,\n",
      "          0.0023, -0.0645,  0.0324,  0.0328,  0.0375,  0.0231, -0.0413,  0.0528],\n",
      "        [ 0.0105, -0.0050, -0.0298, -0.0129, -0.0489, -0.0498, -0.0225,  0.0099,\n",
      "          0.0753, -0.0010, -0.0245, -0.0470, -0.0198,  0.0420,  0.0301,  0.0073,\n",
      "         -0.0840,  0.0816, -0.0335,  0.0146,  0.0216,  0.0312,  0.0411,  0.0064,\n",
      "          0.0835, -0.0413, -0.0785, -0.0139, -0.0704,  0.0701, -0.0108, -0.0380,\n",
      "          0.0357,  0.0289, -0.0797, -0.0292,  0.0342, -0.0320, -0.0077, -0.0326,\n",
      "          0.0589,  0.0274,  0.0669, -0.0564, -0.0681, -0.0703, -0.0575, -0.0127,\n",
      "          0.0525,  0.0420,  0.0631, -0.0593, -0.0884,  0.0200, -0.0774, -0.0634,\n",
      "         -0.0037,  0.0098,  0.0411,  0.0211, -0.0262,  0.0160, -0.0308,  0.0257,\n",
      "          0.0327,  0.0296,  0.0836,  0.0822, -0.0367,  0.0169, -0.0372,  0.0062,\n",
      "          0.0878, -0.0800,  0.0390,  0.0613, -0.0115,  0.0815,  0.0710,  0.0449,\n",
      "         -0.0838, -0.0689, -0.0121,  0.0777,  0.0371,  0.0616,  0.0648, -0.0704,\n",
      "         -0.0796,  0.0712,  0.0380, -0.0247, -0.0479, -0.0576,  0.0320,  0.0087,\n",
      "          0.0852, -0.0109, -0.0130,  0.0242, -0.0195, -0.0210,  0.0215, -0.0337,\n",
      "          0.0881, -0.0328, -0.0858, -0.0779, -0.0360, -0.0203, -0.0518,  0.0208,\n",
      "          0.0843, -0.0435, -0.0210, -0.0395,  0.0116,  0.0269, -0.0288,  0.0535,\n",
      "          0.0207, -0.0358,  0.0295,  0.0739,  0.0670,  0.0545, -0.0482,  0.0462]],\n",
      "       device='cuda:0', grad_fn=<SliceBackward0>) \n",
      "\n",
      "Layer: linear_relu_stack.6.bias | Size: torch.Size([10]) | Values: tensor([0.0165, 0.0783], device='cuda:0', grad_fn=<SliceBackward0>) \n",
      "\n"
     ]
    }
   ],
   "source": [
    "# set up a model\n",
    "model = NeuralNetwork().to(device)\n",
    "print(model)\n",
    "for name, param in model.named_parameters():\n",
    "    print(f\"Layer: {name} | Size: {param.size()} | Values: {param[:2]} \\n\")"
   ]
  },
  {
   "cell_type": "code",
   "execution_count": 21,
   "id": "e183574c",
   "metadata": {},
   "outputs": [
    {
     "name": "stdout",
     "output_type": "stream",
     "text": [
      "cpu\n",
      "Done!\n"
     ]
    }
   ],
   "source": [
    "# Load data\n",
    "train_data = datasets.FashionMNIST(\n",
    "    root = \"data\", \n",
    "    train = True,\n",
    "    download = True, \n",
    "    transform = ToTensor(),\n",
    "    # target_transform = Lambda(lambda y:torch.zeros(10,dtype=torch.float).scatter_(dim=0, index=torch.tensor(y), value=1))\n",
    ")\n",
    "test_data = datasets.FashionMNIST(\n",
    "    root = \"data\", \n",
    "    train = False,\n",
    "    download = True,\n",
    "    transform = ToTensor()\n",
    "    # target_transform = Lambda(lambda y:torch.zeros(10,dtype=torch.float).scatter_(dim=0, index=torch.tensor(y), value=1))\n",
    ")\n",
    "\n",
    "train = DataLoader(train_data, batch_size=batch_size, shuffle=True)\n",
    "test = DataLoader(test_data, batch_size=batch_size, shuffle=True)\n",
    "\n",
    "print(train_data[5][0].device)\n",
    "print(\"Done!\")"
   ]
  },
  {
   "cell_type": "markdown",
   "id": "57d72fc2",
   "metadata": {},
   "source": [
    "- function of train_loop does 4 things in each batch:\n",
    "    1. send tensor to cuda, initialize model\n",
    "    2. front propagation\n",
    "    3. back propagation\n",
    "    4. use optimizer adjust learning_rate & empty gradient"
   ]
  },
  {
   "cell_type": "code",
   "execution_count": null,
   "id": "22aee041",
   "metadata": {},
   "outputs": [],
   "source": [
    "def train_loop(dataloader, model, loss_fn, optimizer):\n",
    "    size = len(dataloader.dataset)\n",
    "    model.train()\n",
    "    for batch, (X, y) in enumerate(dataloader):\n",
    "        # forward propagation\n",
    "        X, y = X.to(device), y.to(device)\n",
    "        pred = model(X)\n",
    "        loss = loss_fn(pred, y)\n",
    "        # backward propagation\n",
    "        loss.backward()\n",
    "        optimizer.step()\n",
    "        optimizer.zero_grad()\n",
    "        if batch % 100 == 0:\n",
    "            loss, current = loss.item(), batch * batch_size + len(X)\n",
    "        print(f\"loss: {loss:>7f}  [{current:>5d}/{size:>5d}]\")\n",
    "\n",
    "def test_loop(dataloader, model, loss_fn):\n",
    "    size = len(dataloader.dataset)\n",
    "    num_batches = len(dataloader)\n",
    "    model.eval()\n",
    "    test_loss, correct = 0, 0\n",
    "    with torch.no_grad():\n",
    "        for X, y in dataloader"
   ]
  }
 ],
 "metadata": {
  "kernelspec": {
   "display_name": "torch_env",
   "language": "python",
   "name": "python3"
  },
  "language_info": {
   "codemirror_mode": {
    "name": "ipython",
    "version": 3
   },
   "file_extension": ".py",
   "mimetype": "text/x-python",
   "name": "python",
   "nbconvert_exporter": "python",
   "pygments_lexer": "ipython3",
   "version": "3.13.9"
  }
 },
 "nbformat": 4,
 "nbformat_minor": 5
}
