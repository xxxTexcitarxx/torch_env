{
 "cells": [
  {
   "cell_type": "code",
   "execution_count": 2,
   "id": "5f007259-e4fb-4ef4-9add-7b1106ab8c97",
   "metadata": {},
   "outputs": [
    {
     "name": "stdout",
     "output_type": "stream",
     "text": [
      "Initialize successfully\n"
     ]
    }
   ],
   "source": [
    "import os\n",
    "import pandas as pd\n",
    "import torch\n",
    "from torch.utils.data import Dataset\n",
    "from torchvision.io import decode_image\n",
    "print(\"Initialize successfully\")"
   ]
  },
  {
   "cell_type": "markdown",
   "id": "20783a21-05d6-45d4-8b85-9e21070643a7",
   "metadata": {},
   "source": [
    "### A custom Dataset class must implement three functions\n",
    "- `__init__`\n",
    "    - the img_labels looks like:\n",
    "     ```\n",
    "     tshirt1.jpg, 0\n",
    "     tshirt2.jpg, 0\n",
    "     ......\n",
    "     ankleboot999.jpg, 9\n",
    "     ```\n",
    "- `__len__`\n",
    "- `__getitem__`"
   ]
  },
  {
   "cell_type": "code",
   "execution_count": 3,
   "id": "ecd87e56-2867-4365-a1ca-db55c580fe31",
   "metadata": {},
   "outputs": [],
   "source": [
    "class CustomImageDataset(Dataset):\n",
    "    def __init__(self, annotations_file, img_dir, transform=None, target_transform=None):\n",
    "        self.img_lables = pd.read_csv(annotations_file)\n",
    "        self.img_dir = img_dir\n",
    "        self.transform = transform\n",
    "        self.target_transform = target_transform\n",
    "\n",
    "    def __len__(self):\n",
    "        return len(self.img_lables)\n",
    "\n",
    "    def __getitem__(self, idx):\n",
    "        img_path = os.path.join(self.img_dir, self.img_lables.iloc[idx, 0])\n",
    "        image = decode_image(img_path)\n",
    "        label = self.img_lables.iloc[idx, 1]\n",
    "        if self.transform:\n",
    "            image = self.transform(image)\n",
    "        if self.target_transform:\n",
    "            label = self.target_transform(label)\n",
    "        return image, label\n",
    "        "
   ]
  },
  {
   "cell_type": "markdown",
   "id": "ccd00578-419d-435c-9f3b-54ef65d9061d",
   "metadata": {},
   "source": [
    "Inconclusion, those 3 method have these jobs respectively:\n",
    "- __init__ method:\n",
    "    - prepare for image-label pair\n",
    "    - generally, load a dataset with image name and relevant label\n",
    "    - also the whole path of dataset, waiting for combining\n",
    "    - for image\n",
    "        - only load its seperate path in initialize step\n",
    "        - requires a transform method (e.g. ToTensor()) for transfromation\n",
    "    - for label\n",
    "        - requires a target_transform mathod (e.g. label_map or one-hot coding)\n",
    "- __len__ method:\n",
    "    - return the number of dataset, which is right the length of the dataset we've load before (self.img_labels).\n",
    "- __getitem__ method:\n",
    "    - return image-label pair according to given index "
   ]
  }
 ],
 "metadata": {
  "kernelspec": {
   "display_name": "Python 3 (ipykernel)",
   "language": "python",
   "name": "python3"
  },
  "language_info": {
   "codemirror_mode": {
    "name": "ipython",
    "version": 3
   },
   "file_extension": ".py",
   "mimetype": "text/x-python",
   "name": "python",
   "nbconvert_exporter": "python",
   "pygments_lexer": "ipython3",
   "version": "3.13.9"
  }
 },
 "nbformat": 4,
 "nbformat_minor": 5
}
